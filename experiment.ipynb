{
 "cells": [
  {
   "cell_type": "markdown",
   "id": "27991036",
   "metadata": {},
   "source": [
    "# Experimental\n",
    "\n",
    "Experiments before they're integrated into the main codebase."
   ]
  },
  {
   "cell_type": "code",
   "execution_count": 108,
   "id": "79fd75c0",
   "metadata": {},
   "outputs": [],
   "source": [
    "import os\n",
    "import requests\n",
    "from typing import Literal, Optional"
   ]
  },
  {
   "cell_type": "code",
   "execution_count": 8,
   "id": "877482a5",
   "metadata": {},
   "outputs": [],
   "source": [
    "PWD = os.getcwd()\n",
    "DATA_DIR = os.path.join(PWD, \"data\")\n",
    "INPUT_DATA_URL = (\"https://raw.githubusercontent.com/karpathy/char-rnn/\"\n",
    "                  \"master/data/tinyshakespeare/input.txt\")"
   ]
  },
  {
   "cell_type": "code",
   "execution_count": 9,
   "id": "4ebceb7b",
   "metadata": {},
   "outputs": [],
   "source": [
    "def fetch_input_data() -> str:\n",
    "    \"\"\"Gets the input data, caching it for easy access.\"\"\"\n",
    "    input_file_path = os.path.join(DATA_DIR, \"input.txt\")\n",
    "    if not os.path.exists(input_file_path):\n",
    "        with open(input_file_path, \"w\", encoding=\"utf-8\") as f:\n",
    "            f.write(requests.get(INPUT_DATA_URL).text)\n",
    "    \n",
    "    with open(input_file_path, \"r\", encoding=\"utf-8\") as f:\n",
    "        return f.read()"
   ]
  },
  {
   "cell_type": "code",
   "execution_count": 17,
   "id": "f3a95dad",
   "metadata": {},
   "outputs": [],
   "source": [
    "input_text = fetch_input_data()"
   ]
  },
  {
   "cell_type": "code",
   "execution_count": 18,
   "id": "3231b66f",
   "metadata": {},
   "outputs": [
    {
     "name": "stdout",
     "output_type": "stream",
     "text": [
      "1115394\n"
     ]
    }
   ],
   "source": [
    "print(len(input_text))"
   ]
  },
  {
   "cell_type": "code",
   "execution_count": 19,
   "id": "bf06e2c0",
   "metadata": {},
   "outputs": [
    {
     "name": "stdout",
     "output_type": "stream",
     "text": [
      "\n",
      " !$&',-.3:;?ABCDEFGHIJKLMNOPQRSTUVWXYZabcdefghijklmnopqrstuvwxyz\n",
      "65\n"
     ]
    }
   ],
   "source": [
    "chars = sorted(list(set(input_text)))\n",
    "vocab_size = len(chars)\n",
    "print(\"\".join(chars))\n",
    "print(vocab_size)"
   ]
  },
  {
   "cell_type": "code",
   "execution_count": 13,
   "id": "b239148a",
   "metadata": {},
   "outputs": [],
   "source": [
    "string_to_int = {c: i for i, c in enumerate(chars)}\n",
    "int_to_string = {i: c for i, c in enumerate(chars)}\n",
    "\n",
    "encode = lambda s: [string_to_int[c] for c in s]\n",
    "decode = lambda l: \"\".join([int_to_string[i] for i in l])"
   ]
  },
  {
   "cell_type": "code",
   "execution_count": 14,
   "id": "2bf486f6",
   "metadata": {},
   "outputs": [
    {
     "name": "stdout",
     "output_type": "stream",
     "text": [
      "[46, 43, 50, 50, 53]\n",
      "hello\n"
     ]
    }
   ],
   "source": [
    "print(encode(\"hello\"))\n",
    "print(decode(encode(\"hello\")))"
   ]
  },
  {
   "cell_type": "code",
   "execution_count": 20,
   "id": "169c93d7",
   "metadata": {},
   "outputs": [
    {
     "name": "stdout",
     "output_type": "stream",
     "text": [
      "(1115394,) mlx.core.int64\n",
      "array([18, 47, 56, ..., 8, 0, 0], dtype=int64)\n"
     ]
    }
   ],
   "source": [
    "import mlx.core as mx\n",
    "data = mx.array(encode(input_text), dtype=mx.int64)\n",
    "print(data.shape, data.dtype)\n",
    "print(data[:1000])"
   ]
  },
  {
   "cell_type": "code",
   "execution_count": 21,
   "id": "8e169755",
   "metadata": {},
   "outputs": [],
   "source": [
    "# Split the data\n",
    "n = int(0.9 * len(data))\n",
    "train_data = data[:n]\n",
    "val_data = data[n:]"
   ]
  },
  {
   "cell_type": "code",
   "execution_count": 25,
   "id": "9fae276d",
   "metadata": {},
   "outputs": [
    {
     "data": {
      "text/plain": [
       "array([18, 47, 56, ..., 15, 47, 58], dtype=int64)"
      ]
     },
     "execution_count": 25,
     "metadata": {},
     "output_type": "execute_result"
    }
   ],
   "source": [
    "block_size = 8\n",
    "train_data[:block_size + 1]"
   ]
  },
  {
   "cell_type": "code",
   "execution_count": 29,
   "id": "c963b767",
   "metadata": {},
   "outputs": [
    {
     "name": "stdout",
     "output_type": "stream",
     "text": [
      "when input is array([18], dtype=int64) the target is 47\n",
      "when input is array([18, 47], dtype=int64) the target is 56\n",
      "when input is array([18, 47, 56], dtype=int64) the target is 57\n",
      "when input is array([18, 47, 56, 57], dtype=int64) the target is 58\n",
      "when input is array([18, 47, 56, 57, 58], dtype=int64) the target is 1\n",
      "when input is array([18, 47, 56, 57, 58, 1], dtype=int64) the target is 15\n",
      "when input is array([18, 47, 56, ..., 58, 1, 15], dtype=int64) the target is 47\n",
      "when input is array([18, 47, 56, ..., 1, 15, 47], dtype=int64) the target is 58\n"
     ]
    }
   ],
   "source": [
    "x = train_data[:block_size]\n",
    "y = train_data[1:block_size + 1]\n",
    "for t in range(block_size):\n",
    "    context = x[:t+1]\n",
    "    target = y[t].item()\n",
    "    print(f\"when input is {context} the target is {target}\")"
   ]
  },
  {
   "cell_type": "code",
   "execution_count": 243,
   "id": "c4de3f61",
   "metadata": {},
   "outputs": [],
   "source": [
    "mx.random.seed(1337)\n",
    "batch_size = 4 # number of independent sequences to train on in parallel\n",
    "block_size = 8 # maximum context length for predictions\n",
    "\n",
    "def get_batch(split: Literal[\"train\", \"val\"]) -> tuple[mx.array, mx.array]:\n",
    "    data = train_data if split == \"train\" else val_data\n",
    "    ix = mx.random.randint(0, len(data) - block_size, [batch_size])\n",
    "    # gets `batch_size` blocks stacked\n",
    "    x = mx.stack([data[i.item():i.item() + block_size] for i in ix])\n",
    "    # it's shifted to compute the target vectorized\n",
    "    y = mx.stack([data[i.item() + 1:i.item() + block_size + 1] for i in ix])\n",
    "    return x, y"
   ]
  },
  {
   "cell_type": "code",
   "execution_count": 244,
   "id": "f5c13e50",
   "metadata": {},
   "outputs": [
    {
     "name": "stdout",
     "output_type": "stream",
     "text": [
      "inputs:\n",
      "(4, 8)\n",
      "array([[47, 45, 52, ..., 47, 52, 1],\n",
      "       [57, 0, 16, ..., 1, 57, 43],\n",
      "       [40, 56, 53, ..., 11, 1, 40],\n",
      "       [1, 46, 39, ..., 1, 61, 39]], dtype=int64)\n",
      "targets:\n",
      "(4, 8)\n",
      "array([[45, 52, 57, ..., 52, 1, 45],\n",
      "       [0, 16, 47, ..., 57, 43, 43],\n",
      "       [56, 53, 49, ..., 1, 40, 43],\n",
      "       [46, 39, 60, ..., 61, 39, 56]], dtype=int64)\n",
      "when input is array([47], dtype=int64) the target is 45\n",
      "when input is array([47, 45], dtype=int64) the target is 52\n",
      "when input is array([47, 45, 52], dtype=int64) the target is 57\n",
      "when input is array([47, 45, 52, 57], dtype=int64) the target is 1\n",
      "when input is array([47, 45, 52, 57, 1], dtype=int64) the target is 47\n",
      "when input is array([47, 45, 52, 57, 1, 47], dtype=int64) the target is 52\n",
      "when input is array([47, 45, 52, ..., 1, 47, 52], dtype=int64) the target is 1\n",
      "when input is array([47, 45, 52, ..., 47, 52, 1], dtype=int64) the target is 45\n",
      "when input is array([57], dtype=int64) the target is 0\n",
      "when input is array([57, 0], dtype=int64) the target is 16\n",
      "when input is array([57, 0, 16], dtype=int64) the target is 47\n",
      "when input is array([57, 0, 16, 47], dtype=int64) the target is 42\n",
      "when input is array([57, 0, 16, 47, 42], dtype=int64) the target is 1\n",
      "when input is array([57, 0, 16, 47, 42, 1], dtype=int64) the target is 57\n",
      "when input is array([57, 0, 16, ..., 42, 1, 57], dtype=int64) the target is 43\n",
      "when input is array([57, 0, 16, ..., 1, 57, 43], dtype=int64) the target is 43\n",
      "when input is array([40], dtype=int64) the target is 56\n",
      "when input is array([40, 56], dtype=int64) the target is 53\n",
      "when input is array([40, 56, 53], dtype=int64) the target is 49\n",
      "when input is array([40, 56, 53, 49], dtype=int64) the target is 43\n",
      "when input is array([40, 56, 53, 49, 43], dtype=int64) the target is 11\n",
      "when input is array([40, 56, 53, 49, 43, 11], dtype=int64) the target is 1\n",
      "when input is array([40, 56, 53, ..., 43, 11, 1], dtype=int64) the target is 40\n",
      "when input is array([40, 56, 53, ..., 11, 1, 40], dtype=int64) the target is 43\n",
      "when input is array([1], dtype=int64) the target is 46\n",
      "when input is array([1, 46], dtype=int64) the target is 39\n",
      "when input is array([1, 46, 39], dtype=int64) the target is 60\n",
      "when input is array([1, 46, 39, 60], dtype=int64) the target is 43\n",
      "when input is array([1, 46, 39, 60, 43], dtype=int64) the target is 1\n",
      "when input is array([1, 46, 39, 60, 43, 1], dtype=int64) the target is 61\n",
      "when input is array([1, 46, 39, ..., 43, 1, 61], dtype=int64) the target is 39\n",
      "when input is array([1, 46, 39, ..., 1, 61, 39], dtype=int64) the target is 56\n"
     ]
    }
   ],
   "source": [
    "xb, yb = get_batch(\"train\")\n",
    "\n",
    "print(\"inputs:\")\n",
    "print(xb.shape)\n",
    "print(xb)\n",
    "print(\"targets:\")\n",
    "print(yb.shape)\n",
    "print(yb)\n",
    "\n",
    "# We can observe they match but yb is shifted by one\n",
    "for b in range(batch_size):\n",
    "    for t in range(block_size):\n",
    "        context = xb[b, :t+1]\n",
    "        target = yb[b, t].item()\n",
    "        print(f\"when input is {context} the target is {target}\")"
   ]
  },
  {
   "cell_type": "code",
   "execution_count": 248,
   "id": "786cde99",
   "metadata": {},
   "outputs": [],
   "source": [
    "import mlx.nn as nn\n",
    "\n",
    "class BigramLanguageModel(nn.Module):\n",
    "    def __init__(self, vocab_size: int):\n",
    "        super().__init__()\n",
    "        self.token_embedding = nn.Embedding(vocab_size, vocab_size)\n",
    "    \n",
    "    def __call__(self, idx: mx.array) -> mx.array:\n",
    "        return self.token_embedding(idx)\n",
    "    \n",
    "    def generate(self, idx: mx.array, max_new_tokens: int) -> mx.array:\n",
    "        for _ in range(max_new_tokens):\n",
    "            logits = self(idx)\n",
    "            logits = logits[:, -1, :]\n",
    "            idx_next = mx.random.categorical(logits, num_samples=1, axis=-1)\n",
    "            idx = mx.concatenate([idx, idx_next], axis=1)\n",
    "        # this is actually going to return 101 tokens since the input counts\n",
    "        return idx\n",
    "\n",
    "\n",
    "def loss_fn(model: nn.Module, x: mx.array, y: mx.array) -> mx.array:\n",
    "    return mx.mean(nn.losses.cross_entropy(model(x), y))"
   ]
  },
  {
   "cell_type": "code",
   "execution_count": 249,
   "id": "3aada610",
   "metadata": {},
   "outputs": [
    {
     "name": "stdout",
     "output_type": "stream",
     "text": [
      "(4, 8, 65) ()\n"
     ]
    }
   ],
   "source": [
    "model = BigramLanguageModel(vocab_size)\n",
    "logits = model(xb)\n",
    "loss = loss_fn(model, xb, yb)\n",
    "print(logits.shape, loss.shape)"
   ]
  },
  {
   "cell_type": "code",
   "execution_count": 250,
   "id": "55a186b5",
   "metadata": {},
   "outputs": [
    {
     "data": {
      "text/plain": [
       "\"\\n;b!HR'FrcrF?&Nui3;woGFdW pAZYhoKYO!hHPv:F3uMAHbG:slLyWXd;woxmBMTexUQY ZdP\\ntTkaBlWOP&Z..zNS YjFR,OxrO\""
      ]
     },
     "execution_count": 250,
     "metadata": {},
     "output_type": "execute_result"
    }
   ],
   "source": [
    "input = mx.zeros((1, 1), dtype=mx.int64)\n",
    "decode(model.generate(input, 100).reshape(-1).tolist())"
   ]
  },
  {
   "cell_type": "code",
   "execution_count": 251,
   "id": "a4b45d2b",
   "metadata": {},
   "outputs": [
    {
     "name": "stdout",
     "output_type": "stream",
     "text": [
      "2.3335912227630615\n"
     ]
    }
   ],
   "source": [
    "import mlx.optimizers as optim\n",
    "loss_and_grad_fn = nn.value_and_grad(model, loss_fn)\n",
    "optimizer = optim.AdamW(learning_rate=1e-3)\n",
    "\n",
    "num_epochs = 10000\n",
    "for epoch in range(num_epochs):\n",
    "    xb, yb = get_batch(\"train\")\n",
    "\n",
    "    loss, grads = loss_and_grad_fn(model, xb, yb)\n",
    "    optimizer.update(model, grads)\n",
    "    mx.eval(model.parameters(), optimizer.state)\n",
    "\n",
    "print(loss_fn(model, *get_batch(\"train\")).item())"
   ]
  },
  {
   "cell_type": "code",
   "execution_count": 252,
   "id": "06c6d0dc",
   "metadata": {},
   "outputs": [
    {
     "name": "stdout",
     "output_type": "stream",
     "text": [
      "\n",
      "T:\n",
      "\n",
      "yomyos boube-GLLL:\n",
      "\n",
      "J's toris tasik f m, reut ld?\n",
      "Thinul yawind y bud he my, f wand s; our mernd\n"
     ]
    }
   ],
   "source": [
    "input = mx.zeros((1, 1), dtype=mx.int64)\n",
    "print(decode(model.generate(input, 100).reshape(-1).tolist()))"
   ]
  },
  {
   "cell_type": "markdown",
   "id": "cc0aa9a9",
   "metadata": {},
   "source": []
  }
 ],
 "metadata": {
  "kernelspec": {
   "display_name": ".venv",
   "language": "python",
   "name": "python3"
  },
  "language_info": {
   "codemirror_mode": {
    "name": "ipython",
    "version": 3
   },
   "file_extension": ".py",
   "mimetype": "text/x-python",
   "name": "python",
   "nbconvert_exporter": "python",
   "pygments_lexer": "ipython3",
   "version": "3.11.8"
  }
 },
 "nbformat": 4,
 "nbformat_minor": 5
}
