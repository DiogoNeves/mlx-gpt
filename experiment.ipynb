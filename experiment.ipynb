{
 "cells": [
  {
   "cell_type": "markdown",
   "id": "27991036",
   "metadata": {},
   "source": [
    "# Experimental\n",
    "\n",
    "Experiments before they're integrated into the main codebase."
   ]
  },
  {
   "cell_type": "code",
   "execution_count": 108,
   "id": "79fd75c0",
   "metadata": {},
   "outputs": [],
   "source": [
    "import os\n",
    "import requests\n",
    "from typing import Literal, Optional"
   ]
  },
  {
   "cell_type": "code",
   "execution_count": 8,
   "id": "877482a5",
   "metadata": {},
   "outputs": [],
   "source": [
    "PWD = os.getcwd()\n",
    "DATA_DIR = os.path.join(PWD, \"data\")\n",
    "INPUT_DATA_URL = (\"https://raw.githubusercontent.com/karpathy/char-rnn/\"\n",
    "                  \"master/data/tinyshakespeare/input.txt\")"
   ]
  },
  {
   "cell_type": "code",
   "execution_count": 9,
   "id": "4ebceb7b",
   "metadata": {},
   "outputs": [],
   "source": [
    "def fetch_input_data() -> str:\n",
    "    \"\"\"Gets the input data, caching it for easy access.\"\"\"\n",
    "    input_file_path = os.path.join(DATA_DIR, \"input.txt\")\n",
    "    if not os.path.exists(input_file_path):\n",
    "        with open(input_file_path, \"w\", encoding=\"utf-8\") as f:\n",
    "            f.write(requests.get(INPUT_DATA_URL).text)\n",
    "    \n",
    "    with open(input_file_path, \"r\", encoding=\"utf-8\") as f:\n",
    "        return f.read()"
   ]
  },
  {
   "cell_type": "code",
   "execution_count": 17,
   "id": "f3a95dad",
   "metadata": {},
   "outputs": [],
   "source": [
    "input_text = fetch_input_data()"
   ]
  },
  {
   "cell_type": "code",
   "execution_count": 18,
   "id": "3231b66f",
   "metadata": {},
   "outputs": [
    {
     "name": "stdout",
     "output_type": "stream",
     "text": [
      "1115394\n"
     ]
    }
   ],
   "source": [
    "print(len(input_text))"
   ]
  },
  {
   "cell_type": "code",
   "execution_count": 19,
   "id": "bf06e2c0",
   "metadata": {},
   "outputs": [
    {
     "name": "stdout",
     "output_type": "stream",
     "text": [
      "\n",
      " !$&',-.3:;?ABCDEFGHIJKLMNOPQRSTUVWXYZabcdefghijklmnopqrstuvwxyz\n",
      "65\n"
     ]
    }
   ],
   "source": [
    "chars = sorted(list(set(input_text)))\n",
    "vocab_size = len(chars)\n",
    "print(\"\".join(chars))\n",
    "print(vocab_size)"
   ]
  },
  {
   "cell_type": "code",
   "execution_count": 13,
   "id": "b239148a",
   "metadata": {},
   "outputs": [],
   "source": [
    "string_to_int = {c: i for i, c in enumerate(chars)}\n",
    "int_to_string = {i: c for i, c in enumerate(chars)}\n",
    "\n",
    "encode = lambda s: [string_to_int[c] for c in s]\n",
    "decode = lambda l: \"\".join([int_to_string[i] for i in l])"
   ]
  },
  {
   "cell_type": "code",
   "execution_count": 14,
   "id": "2bf486f6",
   "metadata": {},
   "outputs": [
    {
     "name": "stdout",
     "output_type": "stream",
     "text": [
      "[46, 43, 50, 50, 53]\n",
      "hello\n"
     ]
    }
   ],
   "source": [
    "print(encode(\"hello\"))\n",
    "print(decode(encode(\"hello\")))"
   ]
  },
  {
   "cell_type": "code",
   "execution_count": 20,
   "id": "169c93d7",
   "metadata": {},
   "outputs": [
    {
     "name": "stdout",
     "output_type": "stream",
     "text": [
      "(1115394,) mlx.core.int64\n",
      "array([18, 47, 56, ..., 8, 0, 0], dtype=int64)\n"
     ]
    }
   ],
   "source": [
    "import mlx.core as mx\n",
    "data = mx.array(encode(input_text), dtype=mx.int64)\n",
    "print(data.shape, data.dtype)\n",
    "print(data[:1000])"
   ]
  },
  {
   "cell_type": "code",
   "execution_count": 21,
   "id": "8e169755",
   "metadata": {},
   "outputs": [],
   "source": [
    "# Split the data\n",
    "n = int(0.9 * len(data))\n",
    "train_data = data[:n]\n",
    "val_data = data[n:]"
   ]
  },
  {
   "cell_type": "code",
   "execution_count": 25,
   "id": "9fae276d",
   "metadata": {},
   "outputs": [
    {
     "data": {
      "text/plain": [
       "array([18, 47, 56, ..., 15, 47, 58], dtype=int64)"
      ]
     },
     "execution_count": 25,
     "metadata": {},
     "output_type": "execute_result"
    }
   ],
   "source": [
    "block_size = 8\n",
    "train_data[:block_size + 1]"
   ]
  },
  {
   "cell_type": "code",
   "execution_count": 29,
   "id": "c963b767",
   "metadata": {},
   "outputs": [
    {
     "name": "stdout",
     "output_type": "stream",
     "text": [
      "when input is array([18], dtype=int64) the target is 47\n",
      "when input is array([18, 47], dtype=int64) the target is 56\n",
      "when input is array([18, 47, 56], dtype=int64) the target is 57\n",
      "when input is array([18, 47, 56, 57], dtype=int64) the target is 58\n",
      "when input is array([18, 47, 56, 57, 58], dtype=int64) the target is 1\n",
      "when input is array([18, 47, 56, 57, 58, 1], dtype=int64) the target is 15\n",
      "when input is array([18, 47, 56, ..., 58, 1, 15], dtype=int64) the target is 47\n",
      "when input is array([18, 47, 56, ..., 1, 15, 47], dtype=int64) the target is 58\n"
     ]
    }
   ],
   "source": [
    "x = train_data[:block_size]\n",
    "y = train_data[1:block_size + 1]\n",
    "for t in range(block_size):\n",
    "    context = x[:t+1]\n",
    "    target = y[t].item()\n",
    "    print(f\"when input is {context} the target is {target}\")"
   ]
  },
  {
   "cell_type": "code",
   "execution_count": 63,
   "id": "c4de3f61",
   "metadata": {},
   "outputs": [],
   "source": [
    "mx.random.seed(1337)\n",
    "batch_size = 4 # number of independent sequences to train on in parallel\n",
    "block_size = 8 # maximum context length for predictions\n",
    "\n",
    "def get_batch(split: Literal[\"train\", \"val\"]) -> tuple[mx.array, mx.array]:\n",
    "    data = train_data if split == \"train\" else val_data\n",
    "    ix = mx.random.randint(0, len(data) - block_size, [batch_size])\n",
    "    # gets `batch_size` blocks stacked\n",
    "    x = mx.stack([data[i.item():i.item() + block_size] for i in ix])\n",
    "    # it's shifted to compute the target vectorized\n",
    "    y = mx.stack([data[i.item() + 1:i.item() + block_size + 1] for i in ix])\n",
    "    return x, y"
   ]
  },
  {
   "cell_type": "code",
   "execution_count": 67,
   "id": "f5c13e50",
   "metadata": {},
   "outputs": [
    {
     "name": "stdout",
     "output_type": "stream",
     "text": [
      "inputs:\n",
      "(4, 8)\n",
      "array([[56, 53, 51, ..., 47, 57, 1],\n",
      "       [43, 50, 53, ..., 63, 1, 57],\n",
      "       [6, 1, 58, ..., 58, 1, 61],\n",
      "       [0, 5, 32, ..., 1, 39, 1]], dtype=int64)\n",
      "targets:\n",
      "(4, 8)\n",
      "array([[53, 51, 1, ..., 57, 1, 48],\n",
      "       [50, 53, 1, ..., 1, 57, 54],\n",
      "       [1, 58, 46, ..., 1, 61, 43],\n",
      "       [5, 32, 47, ..., 39, 1, 60]], dtype=int64)\n",
      "when input is array([56], dtype=int64) the target is 53\n",
      "when input is array([56, 53], dtype=int64) the target is 51\n",
      "when input is array([56, 53, 51], dtype=int64) the target is 1\n",
      "when input is array([56, 53, 51, 1], dtype=int64) the target is 46\n",
      "when input is array([56, 53, 51, 1, 46], dtype=int64) the target is 47\n",
      "when input is array([56, 53, 51, 1, 46, 47], dtype=int64) the target is 57\n",
      "when input is array([56, 53, 51, ..., 46, 47, 57], dtype=int64) the target is 1\n",
      "when input is array([56, 53, 51, ..., 47, 57, 1], dtype=int64) the target is 48\n",
      "when input is array([43], dtype=int64) the target is 50\n",
      "when input is array([43, 50], dtype=int64) the target is 53\n",
      "when input is array([43, 50, 53], dtype=int64) the target is 1\n",
      "when input is array([43, 50, 53, 1], dtype=int64) the target is 40\n",
      "when input is array([43, 50, 53, 1, 40], dtype=int64) the target is 63\n",
      "when input is array([43, 50, 53, 1, 40, 63], dtype=int64) the target is 1\n",
      "when input is array([43, 50, 53, ..., 40, 63, 1], dtype=int64) the target is 57\n",
      "when input is array([43, 50, 53, ..., 63, 1, 57], dtype=int64) the target is 54\n",
      "when input is array([6], dtype=int64) the target is 1\n",
      "when input is array([6, 1], dtype=int64) the target is 58\n",
      "when input is array([6, 1, 58], dtype=int64) the target is 46\n",
      "when input is array([6, 1, 58, 46], dtype=int64) the target is 39\n",
      "when input is array([6, 1, 58, 46, 39], dtype=int64) the target is 58\n",
      "when input is array([6, 1, 58, 46, 39, 58], dtype=int64) the target is 1\n",
      "when input is array([6, 1, 58, ..., 39, 58, 1], dtype=int64) the target is 61\n",
      "when input is array([6, 1, 58, ..., 58, 1, 61], dtype=int64) the target is 43\n",
      "when input is array([0], dtype=int64) the target is 5\n",
      "when input is array([0, 5], dtype=int64) the target is 32\n",
      "when input is array([0, 5, 32], dtype=int64) the target is 47\n",
      "when input is array([0, 5, 32, 47], dtype=int64) the target is 57\n",
      "when input is array([0, 5, 32, 47, 57], dtype=int64) the target is 1\n",
      "when input is array([0, 5, 32, 47, 57, 1], dtype=int64) the target is 39\n",
      "when input is array([0, 5, 32, ..., 57, 1, 39], dtype=int64) the target is 1\n",
      "when input is array([0, 5, 32, ..., 1, 39, 1], dtype=int64) the target is 60\n"
     ]
    }
   ],
   "source": [
    "xb, yb = get_batch(\"train\")\n",
    "\n",
    "print(\"inputs:\")\n",
    "print(xb.shape)\n",
    "print(xb)\n",
    "print(\"targets:\")\n",
    "print(yb.shape)\n",
    "print(yb)\n",
    "\n",
    "# We can observe they match but yb is shifted by one\n",
    "for b in range(batch_size):\n",
    "    for t in range(block_size):\n",
    "        context = xb[b, :t+1]\n",
    "        target = yb[b, t].item()\n",
    "        print(f\"when input is {context} the target is {target}\")"
   ]
  },
  {
   "cell_type": "code",
   "execution_count": 140,
   "id": "786cde99",
   "metadata": {},
   "outputs": [],
   "source": [
    "import mlx.nn as nn\n",
    "\n",
    "class BigramLanguageModel(nn.Module):\n",
    "    def __init__(self, vocab_size: int):\n",
    "        super().__init__()\n",
    "        self.token_embedding = nn.Embedding(vocab_size, vocab_size)\n",
    "    \n",
    "    def __call__(self, idx: mx.array, targets: Optional[mx.array] = None\n",
    "                 ) -> tuple[mx.array, Optional[mx.array]]:\n",
    "        logits = self.token_embedding(idx)\n",
    "        if targets is None:\n",
    "            return logits, None\n",
    "\n",
    "        loss = nn.losses.cross_entropy(logits, targets)\n",
    "        return logits, loss\n",
    "    \n",
    "    def generate(self, idx: mx.array, max_new_tokens: int) -> mx.array:\n",
    "        for _ in range(max_new_tokens):\n",
    "            logits, _ = self(idx)\n",
    "            idx_next = mx.random.categorical(logits, axis=-1)\n",
    "            idx = mx.concatenate([idx, idx_next], axis=1)\n",
    "        return idx"
   ]
  },
  {
   "cell_type": "code",
   "execution_count": 141,
   "id": "3aada610",
   "metadata": {},
   "outputs": [
    {
     "name": "stdout",
     "output_type": "stream",
     "text": [
      "(4, 8, 65) (4, 8)\n"
     ]
    }
   ],
   "source": [
    "m = BigramLanguageModel(vocab_size)\n",
    "logits, loss = m(xb, yb)\n",
    "assert loss is not None, \"loss should be computed when targets are provided\"\n",
    "print(logits.shape, loss.shape)"
   ]
  },
  {
   "cell_type": "code",
   "execution_count": 142,
   "id": "55a186b5",
   "metadata": {},
   "outputs": [
    {
     "data": {
      "text/plain": [
       "' HZZ'"
      ]
     },
     "execution_count": 142,
     "metadata": {},
     "output_type": "execute_result"
    }
   ],
   "source": [
    "decode(m.generate(mx.ones((1, 1), dtype=mx.int64), 2).reshape(-1).tolist())"
   ]
  },
  {
   "cell_type": "code",
   "execution_count": null,
   "id": "a4b45d2b",
   "metadata": {},
   "outputs": [],
   "source": []
  }
 ],
 "metadata": {
  "kernelspec": {
   "display_name": ".venv",
   "language": "python",
   "name": "python3"
  },
  "language_info": {
   "codemirror_mode": {
    "name": "ipython",
    "version": 3
   },
   "file_extension": ".py",
   "mimetype": "text/x-python",
   "name": "python",
   "nbconvert_exporter": "python",
   "pygments_lexer": "ipython3",
   "version": "3.11.8"
  }
 },
 "nbformat": 4,
 "nbformat_minor": 5
}
