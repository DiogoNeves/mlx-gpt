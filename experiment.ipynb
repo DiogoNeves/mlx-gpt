{
 "cells": [
  {
   "cell_type": "markdown",
   "id": "27991036",
   "metadata": {},
   "source": [
    "# Experimental\n",
    "\n",
    "Experiments before they're integrated into the main codebase."
   ]
  },
  {
   "cell_type": "code",
   "execution_count": 2,
   "id": "79fd75c0",
   "metadata": {},
   "outputs": [],
   "source": [
    "import os\n",
    "import requests"
   ]
  },
  {
   "cell_type": "code",
   "execution_count": 8,
   "id": "877482a5",
   "metadata": {},
   "outputs": [],
   "source": [
    "PWD = os.getcwd()\n",
    "DATA_DIR = os.path.join(PWD, \"data\")\n",
    "INPUT_DATA_URL = (\"https://raw.githubusercontent.com/karpathy/char-rnn/\"\n",
    "                  \"master/data/tinyshakespeare/input.txt\")"
   ]
  },
  {
   "cell_type": "markdown",
   "id": "77993679",
   "metadata": {},
   "source": [
    "## Data"
   ]
  },
  {
   "cell_type": "code",
   "execution_count": 9,
   "id": "4ebceb7b",
   "metadata": {},
   "outputs": [],
   "source": [
    "def fetch_input_data() -> str:\n",
    "    \"\"\"Gets the input data, caching it for easy access.\"\"\"\n",
    "    input_file_path = os.path.join(DATA_DIR, \"input.txt\")\n",
    "    if not os.path.exists(input_file_path):\n",
    "        with open(input_file_path, \"w\", encoding=\"utf-8\") as f:\n",
    "            f.write(requests.get(INPUT_DATA_URL).text)\n",
    "    \n",
    "    with open(input_file_path, \"r\", encoding=\"utf-8\") as f:\n",
    "        return f.read()"
   ]
  },
  {
   "cell_type": "code",
   "execution_count": 10,
   "id": "f3a95dad",
   "metadata": {},
   "outputs": [],
   "source": [
    "input_data = fetch_input_data()"
   ]
  },
  {
   "cell_type": "code",
   "execution_count": 11,
   "id": "3231b66f",
   "metadata": {},
   "outputs": [
    {
     "name": "stdout",
     "output_type": "stream",
     "text": [
      "1115394\n"
     ]
    }
   ],
   "source": [
    "print(len(input_data))"
   ]
  },
  {
   "cell_type": "code",
   "execution_count": 12,
   "id": "bf06e2c0",
   "metadata": {},
   "outputs": [
    {
     "name": "stdout",
     "output_type": "stream",
     "text": [
      "\n",
      " !$&',-.3:;?ABCDEFGHIJKLMNOPQRSTUVWXYZabcdefghijklmnopqrstuvwxyz\n",
      "65\n"
     ]
    }
   ],
   "source": [
    "chars = sorted(list(set(input_data)))\n",
    "vocab_size = len(chars)\n",
    "print(\"\".join(chars))\n",
    "print(vocab_size)"
   ]
  },
  {
   "cell_type": "markdown",
   "id": "0fb1c72d",
   "metadata": {},
   "source": [
    "## Tokenizer"
   ]
  },
  {
   "cell_type": "code",
   "execution_count": 13,
   "id": "b239148a",
   "metadata": {},
   "outputs": [],
   "source": [
    "string_to_int = {c: i for i, c in enumerate(chars)}\n",
    "int_to_string = {i: c for i, c in enumerate(chars)}\n",
    "\n",
    "encode = lambda s: [string_to_int[c] for c in s]\n",
    "decode = lambda l: \"\".join([int_to_string[i] for i in l])"
   ]
  },
  {
   "cell_type": "code",
   "execution_count": 14,
   "id": "2bf486f6",
   "metadata": {},
   "outputs": [
    {
     "name": "stdout",
     "output_type": "stream",
     "text": [
      "[46, 43, 50, 50, 53]\n",
      "hello\n"
     ]
    }
   ],
   "source": [
    "print(encode(\"hello\"))\n",
    "print(decode(encode(\"hello\")))"
   ]
  },
  {
   "cell_type": "code",
   "execution_count": null,
   "id": "169c93d7",
   "metadata": {},
   "outputs": [],
   "source": []
  }
 ],
 "metadata": {
  "kernelspec": {
   "display_name": ".venv",
   "language": "python",
   "name": "python3"
  },
  "language_info": {
   "codemirror_mode": {
    "name": "ipython",
    "version": 3
   },
   "file_extension": ".py",
   "mimetype": "text/x-python",
   "name": "python",
   "nbconvert_exporter": "python",
   "pygments_lexer": "ipython3",
   "version": "3.11.8"
  }
 },
 "nbformat": 4,
 "nbformat_minor": 5
}
